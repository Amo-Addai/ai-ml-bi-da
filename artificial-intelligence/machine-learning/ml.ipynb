{
  "nbformat": 4,
  "nbformat_minor": 0,
  "metadata": {
    "kernelspec": {
      "display_name": "Python 3",
      "language": "python",
      "name": "python3"
    },
    "language_info": {
      "codemirror_mode": {
        "name": "ipython",
        "version": 3
      },
      "file_extension": ".py",
      "mimetype": "text/x-python",
      "name": "python",
      "nbconvert_exporter": "python",
      "pygments_lexer": "ipython3",
      "version": "3.6.2"
    },
    "nbclean": true,
    "colab": {
      "provenance": []
    }
  },
  "cells": [
    {
      "cell_type": "code",
      "metadata": {
        "id": "yXy85C9gqaRd"
      },
      "source": [
        "%matplotlib inline\n",
        "import matplotlib\n",
        "import seaborn as sns\n",
        "matplotlib.rcParams['savefig.dpi'] = 144"
      ],
      "execution_count": null,
      "outputs": []
    },
    {
      "cell_type": "code",
      "metadata": {
        "id": "_vRofW6nqaR0"
      },
      "source": [
        "from static_grader import grader"
      ],
      "execution_count": null,
      "outputs": []
    },
    {
      "cell_type": "markdown",
      "metadata": {
        "id": "A-oI2cHGqaSB"
      },
      "source": [
        "# ML Miniproject\n",
        "## Introduction\n",
        "\n",
        "The objective of this miniproject is to exercise your ability to create effective machine learning models for making predictions. We will be working with nursing home inspection data from the United States, predicting which providers may be fined and for how much.\n",
        "\n",
        "## Scoring\n",
        "\n",
        "In this miniproject you will often submit your model's `predict` or `predict_proba` method to the grader. The grader will assess the performance of your model using a scoring metric, comparing it against the score of a reference model. We will use the [average precision score](http://scikit-learn.org/stable/modules/generated/sklearn.metrics.average_precision_score.html). If your model performs better than the reference solution, then you can score higher than 1.0.\n",
        "\n",
        "## Downloading the data\n",
        "\n",
        "We can download the data set from Amazon S3:"
      ]
    },
    {
      "cell_type": "code",
      "metadata": {
        "id": "L4MnXCfuqaSF",
        "outputId": "a0017ab6-dcd1-4acd-bfc3-a6fe35237a15",
        "colab": {
          "base_uri": "https://localhost:8080/",
          "height": 1000
        }
      },
      "source": [
        "%%bash\n",
        "mkdir data\n",
        "wget http://dataincubator-wqu.s3.amazonaws.com/mldata/providers-train.csv -nc -P ./ml-data\n",
        "wget http://dataincubator-wqu.s3.amazonaws.com/mldata/providers-metadata.csv -nc -P ./ml-data"
      ],
      "execution_count": null,
      "outputs": [
        {
          "output_type": "stream",
          "text": [
            "--2019-11-14 16:30:47--  http://dataincubator-wqu.s3.amazonaws.com/mldata/providers-train.csv\n",
            "Resolving dataincubator-wqu.s3.amazonaws.com (dataincubator-wqu.s3.amazonaws.com)... 52.216.161.139\n",
            "Connecting to dataincubator-wqu.s3.amazonaws.com (dataincubator-wqu.s3.amazonaws.com)|52.216.161.139|:80... connected.\n",
            "HTTP request sent, awaiting response... 200 OK\n",
            "Length: 3398120 (3.2M) [text/csv]\n",
            "Saving to: ‘./ml-data/providers-train.csv’\n",
            "\n",
            "     0K .......... .......... .......... .......... ..........  1%  276K 12s\n",
            "    50K .......... .......... .......... .......... ..........  3% 2.00M 7s\n",
            "   100K .......... .......... .......... .......... ..........  4%  744K 6s\n",
            "   150K .......... .......... .......... .......... ..........  6% 77.0M 4s\n",
            "   200K .......... .......... .......... .......... ..........  7%  555K 4s\n",
            "   250K .......... .......... .......... .......... ..........  9% 41.3M 4s\n",
            "   300K .......... .......... .......... .......... .......... 10% 57.6M 3s\n",
            "   350K .......... .......... .......... .......... .......... 12% 61.7M 3s\n",
            "   400K .......... .......... .......... .......... .......... 13% 2.30M 2s\n",
            "   450K .......... .......... .......... .......... .......... 15%  747K 3s\n",
            "   500K .......... .......... .......... .......... .......... 16% 41.4M 2s\n",
            "   550K .......... .......... .......... .......... .......... 18% 42.6M 2s\n",
            "   600K .......... .......... .......... .......... .......... 19% 51.6M 2s\n",
            "   650K .......... .......... .......... .......... .......... 21% 62.6M 2s\n",
            "   700K .......... .......... .......... .......... .......... 22% 63.9M 2s\n",
            "   750K .......... .......... .......... .......... .......... 24% 56.7M 1s\n",
            "   800K .......... .......... .......... .......... .......... 25% 79.6M 1s\n",
            "   850K .......... .......... .......... .......... .......... 27% 2.78M 1s\n",
            "   900K .......... .......... .......... .......... .......... 28%  751K 1s\n",
            "   950K .......... .......... .......... .......... .......... 30%  288M 1s\n",
            "  1000K .......... .......... .......... .......... .......... 31% 54.2M 1s\n",
            "  1050K .......... .......... .......... .......... .......... 33%  178M 1s\n",
            "  1100K .......... .......... .......... .......... .......... 34%  316M 1s\n",
            "  1150K .......... .......... .......... .......... .......... 36%  318M 1s\n",
            "  1200K .......... .......... .......... .......... .......... 37%  271M 1s\n",
            "  1250K .......... .......... .......... .......... .......... 39%  297M 1s\n",
            "  1300K .......... .......... .......... .......... .......... 40%  333M 1s\n",
            "  1350K .......... .......... .......... .......... .......... 42%  244M 1s\n",
            "  1400K .......... .......... .......... .......... .......... 43% 55.9M 1s\n",
            "  1450K .......... .......... .......... .......... .......... 45% 44.5M 1s\n",
            "  1500K .......... .......... .......... .......... .......... 46% 64.8M 1s\n",
            "  1550K .......... .......... .......... .......... .......... 48% 64.2M 1s\n",
            "  1600K .......... .......... .......... .......... .......... 49% 96.5M 1s\n",
            "  1650K .......... .......... .......... .......... .......... 51%  378M 1s\n",
            "  1700K .......... .......... .......... .......... .......... 52%  409M 0s\n",
            "  1750K .......... .......... .......... .......... .......... 54% 2.76M 0s\n",
            "  1800K .......... .......... .......... .......... .......... 55% 74.7M 0s\n",
            "  1850K .......... .......... .......... .......... .......... 57%  759K 0s\n",
            "  1900K .......... .......... .......... .......... .......... 58%  177M 0s\n",
            "  1950K .......... .......... .......... .......... .......... 60% 66.4M 0s\n",
            "  2000K .......... .......... .......... .......... .......... 61%  324M 0s\n",
            "  2050K .......... .......... .......... .......... .......... 63%  302M 0s\n",
            "  2100K .......... .......... .......... .......... .......... 64%  181M 0s\n",
            "  2150K .......... .......... .......... .......... .......... 66%  342M 0s\n",
            "  2200K .......... .......... .......... .......... .......... 67%  382M 0s\n",
            "  2250K .......... .......... .......... .......... .......... 69%  416M 0s\n",
            "  2300K .......... .......... .......... .......... .......... 70%  398M 0s\n",
            "  2350K .......... .......... .......... .......... .......... 72%  345M 0s\n",
            "  2400K .......... .......... .......... .......... .......... 73% 98.8M 0s\n",
            "  2450K .......... .......... .......... .......... .......... 75% 62.4M 0s\n",
            "  2500K .......... .......... .......... .......... .......... 76% 72.5M 0s\n",
            "  2550K .......... .......... .......... .......... .......... 78% 73.5M 0s\n",
            "  2600K .......... .......... .......... .......... .......... 79% 82.3M 0s\n",
            "  2650K .......... .......... .......... .......... .......... 81% 89.4M 0s\n",
            "  2700K .......... .......... .......... .......... .......... 82% 80.8M 0s\n",
            "  2750K .......... .......... .......... .......... .......... 84%  102M 0s\n",
            "  2800K .......... .......... .......... .......... .......... 85%  386M 0s\n",
            "  2850K .......... .......... .......... .......... .......... 87%  463M 0s\n",
            "  2900K .......... .......... .......... .......... .......... 88%  476M 0s\n",
            "  2950K .......... .......... .......... .......... .......... 90%  495M 0s\n",
            "  3000K .......... .......... .......... .......... .......... 91%  531M 0s\n",
            "  3050K .......... .......... .......... .......... .......... 93%  440M 0s\n",
            "  3100K .......... .......... .......... .......... .......... 94%  531M 0s\n",
            "  3150K .......... .......... .......... .......... .......... 96%  517M 0s\n",
            "  3200K .......... .......... .......... .......... .......... 97%  495M 0s\n",
            "  3250K .......... .......... .......... .......... .......... 99%  448M 0s\n",
            "  3300K .......... ........                                   100%  478M=0.6s\n",
            "\n",
            "2019-11-14 16:30:48 (5.03 MB/s) - ‘./ml-data/providers-train.csv’ saved [3398120/3398120]\n",
            "\n",
            "--2019-11-14 16:30:48--  http://dataincubator-wqu.s3.amazonaws.com/mldata/providers-metadata.csv\n",
            "Resolving dataincubator-wqu.s3.amazonaws.com (dataincubator-wqu.s3.amazonaws.com)... 52.216.161.139\n",
            "Connecting to dataincubator-wqu.s3.amazonaws.com (dataincubator-wqu.s3.amazonaws.com)|52.216.161.139|:80... connected.\n",
            "HTTP request sent, awaiting response... 200 OK\n",
            "Length: 9401 (9.2K) [text/csv]\n",
            "Saving to: ‘./ml-data/providers-metadata.csv’\n",
            "\n",
            "     0K .........                                             100% 78.1M=0s\n",
            "\n",
            "2019-11-14 16:30:48 (78.1 MB/s) - ‘./ml-data/providers-metadata.csv’ saved [9401/9401]\n",
            "\n"
          ],
          "name": "stderr"
        }
      ]
    },
    {
      "cell_type": "markdown",
      "metadata": {
        "id": "4ljo9AzxqaSu"
      },
      "source": [
        "We'll load the data into a Pandas DataFrame. Several columns will become target labels in future questions. Let's pop those columns out from the data, and drop related columns that are neither targets nor reasonable features (i.e. we don't wouldn't know how many times a facility denied payment before knowing whether it was fined).\n",
        "\n",
        "The data has many columns. We have also provided a data dictionary."
      ]
    },
    {
      "cell_type": "code",
      "metadata": {
        "id": "vTCJqGlxqaTA"
      },
      "source": [
        "import numpy as np\n",
        "import pandas as pd"
      ],
      "execution_count": null,
      "outputs": []
    },
    {
      "cell_type": "code",
      "metadata": {
        "id": "FRJZfZLMqaTL",
        "outputId": "7f703635-6624-4ec5-fbfc-b03437299bfb",
        "colab": {
          "base_uri": "https://localhost:8080/",
          "height": 178
        }
      },
      "source": [
        "metadata = pd.read_csv('./ml-data/providers-metadata.csv')\n",
        "metadata.head()"
      ],
      "execution_count": null,
      "outputs": [
        {
          "output_type": "execute_result",
          "data": {
            "application/vnd.google.colaboratory.module+javascript": "\n      import \"https://ssl.gstatic.com/colaboratory/data_table/9e554b27bdd509f3/data_table.js\";\n\n      window.createDataTable({\n        data: [[{\n            'v': 0,\n            'f': \"0\",\n        },\n\"PROVNUM\",\n\"Federal Provider Number\",\n\"Federal Provider Number\",\n\"6 alphanumeric characters\"],\n [{\n            'v': 1,\n            'f': \"1\",\n        },\n\"PROVNAME\",\n\"Provider Name\",\n\"Provider Name\",\n\"text\"],\n [{\n            'v': 2,\n            'f': \"2\",\n        },\n\"ADDRESS\",\n\"Provider Address\",\n\"Provider Address\",\n\"text\"],\n [{\n            'v': 3,\n            'f': \"3\",\n        },\n\"CITY\",\n\"Provider City\",\n\"Provider City\",\n\"text\"],\n [{\n            'v': 4,\n            'f': \"4\",\n        },\n\"STATE\",\n\"Provider State\",\n\"Provider State\",\n\"2-character postal abbreviation\"]],\n        columns: [[\"number\", \"index\"], [\"string\", \"Variable\"], [\"string\", \"Label\"], [\"string\", \"Description\"], [\"string\", \"Format\"]],\n        columnOptions: [{\"width\": \"1px\", \"className\": \"index_column\"}],\n        rowsPerPage: 25,\n        helpUrl: \"https://colab.research.google.com/notebooks/data_table.ipynb\",\n      });\n    ",
            "text/html": [
              "<div>\n",
              "<style scoped>\n",
              "    .dataframe tbody tr th:only-of-type {\n",
              "        vertical-align: middle;\n",
              "    }\n",
              "\n",
              "    .dataframe tbody tr th {\n",
              "        vertical-align: top;\n",
              "    }\n",
              "\n",
              "    .dataframe thead th {\n",
              "        text-align: right;\n",
              "    }\n",
              "</style>\n",
              "<table border=\"1\" class=\"dataframe\">\n",
              "  <thead>\n",
              "    <tr style=\"text-align: right;\">\n",
              "      <th></th>\n",
              "      <th>Variable</th>\n",
              "      <th>Label</th>\n",
              "      <th>Description</th>\n",
              "      <th>Format</th>\n",
              "    </tr>\n",
              "  </thead>\n",
              "  <tbody>\n",
              "    <tr>\n",
              "      <th>0</th>\n",
              "      <td>PROVNUM</td>\n",
              "      <td>Federal Provider Number</td>\n",
              "      <td>Federal Provider Number</td>\n",
              "      <td>6 alphanumeric characters</td>\n",
              "    </tr>\n",
              "    <tr>\n",
              "      <th>1</th>\n",
              "      <td>PROVNAME</td>\n",
              "      <td>Provider Name</td>\n",
              "      <td>Provider Name</td>\n",
              "      <td>text</td>\n",
              "    </tr>\n",
              "    <tr>\n",
              "      <th>2</th>\n",
              "      <td>ADDRESS</td>\n",
              "      <td>Provider Address</td>\n",
              "      <td>Provider Address</td>\n",
              "      <td>text</td>\n",
              "    </tr>\n",
              "    <tr>\n",
              "      <th>3</th>\n",
              "      <td>CITY</td>\n",
              "      <td>Provider City</td>\n",
              "      <td>Provider City</td>\n",
              "      <td>text</td>\n",
              "    </tr>\n",
              "    <tr>\n",
              "      <th>4</th>\n",
              "      <td>STATE</td>\n",
              "      <td>Provider State</td>\n",
              "      <td>Provider State</td>\n",
              "      <td>2-character postal abbreviation</td>\n",
              "    </tr>\n",
              "  </tbody>\n",
              "</table>\n",
              "</div>"
            ],
            "text/plain": [
              "   Variable  ...                           Format\n",
              "0   PROVNUM  ...        6 alphanumeric characters\n",
              "1  PROVNAME  ...                             text\n",
              "2   ADDRESS  ...                             text\n",
              "3      CITY  ...                             text\n",
              "4     STATE  ...  2-character postal abbreviation\n",
              "\n",
              "[5 rows x 4 columns]"
            ]
          },
          "metadata": {
            "tags": []
          },
          "execution_count": 5
        }
      ]
    },
    {
      "cell_type": "code",
      "metadata": {
        "id": "IdlNuZlcqaTb"
      },
      "source": [
        "data = pd.read_csv('./ml-data/providers-train.csv', encoding='latin1')\n",
        "\n",
        "fine_counts = data.pop('FINE_CNT')\n",
        "fine_totals = data.pop('FINE_TOT')\n",
        "cycle_2_score = data.pop('CYCLE_2_TOTAL_SCORE')"
      ],
      "execution_count": null,
      "outputs": []
    },
    {
      "cell_type": "markdown",
      "metadata": {
        "id": "-8nBYk1YqaTs"
      },
      "source": [
        "## Question 1: state_model\n",
        "\n",
        "A federal agency, Centers for Medicare and Medicaid Services (CMS), imposes regulations on nursing homes. However, nursing homes are inspected by state agencies for compliance with regulations, and fines for violations can vary widely between states.\n",
        "\n",
        "Let's develop a very simple initial model to predict the amount of fines a nursing home might expect to pay based on its location. Fill in the class definition of the custom estimator, `StateMeanEstimator`, below."
      ]
    },
    {
      "cell_type": "code",
      "metadata": {
        "id": "SSTLUBdZqaTv"
      },
      "source": [
        "from sklearn.base import BaseEstimator, RegressorMixin, TransformerMixin\n",
        "\n",
        "class GroupMeanEstimator(BaseEstimator, RegressorMixin):\n",
        "    def __init__(self, grouper):\n",
        "        self.grouper = grouper\n",
        "        self.group_averages = {}\n",
        "        self.global_mean = 0\n",
        "\n",
        "    def fit(self, X, y):\n",
        "        # Use self.group_averages to store the average penalty by group\n",
        "        self.group_averages = y.groupby(X[self.grouper]).mean().to_dict()\n",
        "        self.global_mean = y.mean()\n",
        "        return self\n",
        "\n",
        "    def predict(self, X):\n",
        "        # Return a list of predicted penalties based on group of samples in X\n",
        "        #predictions = [self.group_averages[group] for group in X[self.grouper]]\n",
        "        if isinstance(X, list):\n",
        "            X = pd.DataFrame(X)\n",
        "        predictions = [self.group_averages.get(group, self.global_mean)\n",
        "                      for group in X[self.grouper]]\n",
        "        return predictions"
      ],
      "execution_count": null,
      "outputs": []
    },
    {
      "cell_type": "code",
      "metadata": {
        "id": "g94cUDgAqaUh",
        "outputId": "f87d7aaa-db06-41d6-d910-be7b58392ea9",
        "colab": {
          "base_uri": "https://localhost:8080/",
          "height": 958
        }
      },
      "source": [
        "fine_dict = fine_totals.groupby(data['STATE']).mean().to_dict()\n",
        "fine_dict"
      ],
      "execution_count": null,
      "outputs": [
        {
          "output_type": "execute_result",
          "data": {
            "text/plain": [
              "{'AK': 15932.75,\n",
              " 'AL': 13672.320388349515,\n",
              " 'AR': 17596.6815920398,\n",
              " 'AZ': 1512.7222222222222,\n",
              " 'CA': 8054.977611940299,\n",
              " 'CO': 22112.54591836735,\n",
              " 'CT': 8438.121359223302,\n",
              " 'DC': 27333.933333333334,\n",
              " 'DE': 24899.0,\n",
              " 'FL': 16612.338211382114,\n",
              " 'GA': 29459.975,\n",
              " 'GU': 0.0,\n",
              " 'HI': 16133.309523809523,\n",
              " 'IA': 16565.303571428572,\n",
              " 'ID': 42741.942028985504,\n",
              " 'IL': 6634.197226502311,\n",
              " 'IN': 5626.954545454545,\n",
              " 'KS': 24420.79109589041,\n",
              " 'KY': 32656.315384615384,\n",
              " 'LA': 5611.819277108434,\n",
              " 'MA': 16722.25925925926,\n",
              " 'MD': 42806.67661691542,\n",
              " 'ME': 1275.5869565217392,\n",
              " 'MI': 21437.39746835443,\n",
              " 'MN': 3219.326530612245,\n",
              " 'MO': 7635.160997732426,\n",
              " 'MS': 7595.4812834224595,\n",
              " 'MT': 32754.970588235294,\n",
              " 'NC': 30445.040506329115,\n",
              " 'ND': 560.171052631579,\n",
              " 'NE': 8377.755319148937,\n",
              " 'NH': 260.45588235294116,\n",
              " 'NJ': 3490.756838905775,\n",
              " 'NM': 39652.64705882353,\n",
              " 'NV': 3050.1964285714284,\n",
              " 'NY': 2213.51526032316,\n",
              " 'OH': 8214.822977725675,\n",
              " 'OK': 11812.111111111111,\n",
              " 'OR': 12365.983606557376,\n",
              " 'PA': 9216.964686998395,\n",
              " 'PR': 13563.333333333334,\n",
              " 'RI': 3953.44,\n",
              " 'SC': 28205.171779141103,\n",
              " 'SD': 13476.666666666666,\n",
              " 'TN': 37722.919117647056,\n",
              " 'TX': 18147.119744058502,\n",
              " 'UT': 11496.727272727272,\n",
              " 'VA': 19835.32283464567,\n",
              " 'VT': 16241.14705882353,\n",
              " 'WA': 43295.230769230766,\n",
              " 'WI': 18425.87278106509,\n",
              " 'WV': 52675.85046728972,\n",
              " 'WY': 12007.057142857142}"
            ]
          },
          "metadata": {
            "tags": []
          },
          "execution_count": 8
        }
      ]
    },
    {
      "cell_type": "code",
      "metadata": {
        "id": "iheo_vswqaU9",
        "outputId": "a49d71ae-7d93-4d0a-f525-20e4e4ec7f3e",
        "colab": {
          "base_uri": "https://localhost:8080/",
          "height": 34
        }
      },
      "source": [
        "fine_dict.get('AK',0)"
      ],
      "execution_count": null,
      "outputs": [
        {
          "output_type": "execute_result",
          "data": {
            "text/plain": [
              "15932.75"
            ]
          },
          "metadata": {
            "tags": []
          },
          "execution_count": 9
        }
      ]
    },
    {
      "cell_type": "markdown",
      "metadata": {
        "id": "H_JPK0j0qaVX"
      },
      "source": [
        "After filling in class definition, we can create an instance of the estimator and fit it to the data."
      ]
    },
    {
      "cell_type": "code",
      "metadata": {
        "id": "HHF0ByZbqaVu",
        "outputId": "6989823b-c4d7-4625-93ff-aa03fd7e9b24",
        "colab": {
          "base_uri": "https://localhost:8080/",
          "height": 52
        }
      },
      "source": [
        "from sklearn.pipeline import Pipeline\n",
        "\n",
        "state_model = Pipeline([\n",
        "    ('sme', GroupMeanEstimator(grouper='STATE'))\n",
        "    ])\n",
        "state_model.fit(data, fine_totals)"
      ],
      "execution_count": null,
      "outputs": [
        {
          "output_type": "execute_result",
          "data": {
            "text/plain": [
              "Pipeline(memory=None, steps=[('sme', GroupMeanEstimator(grouper='STATE'))],\n",
              "         verbose=False)"
            ]
          },
          "metadata": {
            "tags": []
          },
          "execution_count": 10
        }
      ]
    },
    {
      "cell_type": "markdown",
      "metadata": {
        "id": "8vDuVdERqaV9"
      },
      "source": [
        "Next we should test that our predict method works."
      ]
    },
    {
      "cell_type": "code",
      "metadata": {
        "id": "caMS4IjuqaWG",
        "outputId": "af50a5f2-2ff9-4e00-9784-68b51ba14b9e",
        "colab": {
          "base_uri": "https://localhost:8080/",
          "height": 105
        }
      },
      "source": [
        "sample = data.sample(5)\n",
        "state_model.predict(sample)"
      ],
      "execution_count": null,
      "outputs": [
        {
          "output_type": "execute_result",
          "data": {
            "text/plain": [
              "[16612.338211382114,\n",
              " 16612.338211382114,\n",
              " 8214.822977725675,\n",
              " 16565.303571428572,\n",
              " 9216.964686998395]"
            ]
          },
          "metadata": {
            "tags": []
          },
          "execution_count": 11
        }
      ]
    },
    {
      "cell_type": "code",
      "metadata": {
        "id": "_lD4vIxsqaWl",
        "outputId": "919162e8-ff5b-4898-98cf-b6ead067fca2",
        "colab": {
          "base_uri": "https://localhost:8080/",
          "height": 123
        }
      },
      "source": [
        "sample['STATE']"
      ],
      "execution_count": null,
      "outputs": [
        {
          "output_type": "execute_result",
          "data": {
            "text/plain": [
              "2134     FL\n",
              "1966     FL\n",
              "9092     OH\n",
              "4096     IA\n",
              "10405    PA\n",
              "Name: STATE, dtype: object"
            ]
          },
          "metadata": {
            "tags": []
          },
          "execution_count": 12
        }
      ]
    },
    {
      "cell_type": "code",
      "metadata": {
        "id": "gFm3b4zrqaW1",
        "outputId": "93cb2faa-b5e1-48b7-dd66-573d0b6faccb",
        "colab": {
          "base_uri": "https://localhost:8080/",
          "height": 1000
        }
      },
      "source": [
        "#state_model.predict(pd.DateFrame)\n",
        "\n",
        "state_model.predict(data)"
      ],
      "execution_count": null,
      "outputs": [
        {
          "output_type": "execute_result",
          "data": {
            "text/plain": [
              "[13672.320388349515,\n",
              " 13672.320388349515,\n",
              " 13672.320388349515,\n",
              " 13672.320388349515,\n",
              " 13672.320388349515,\n",
              " 13672.320388349515,\n",
              " 13672.320388349515,\n",
              " 13672.320388349515,\n",
              " 13672.320388349515,\n",
              " 13672.320388349515,\n",
              " 13672.320388349515,\n",
              " 13672.320388349515,\n",
              " 13672.320388349515,\n",
              " 13672.320388349515,\n",
              " 13672.320388349515,\n",
              " 13672.320388349515,\n",
              " 13672.320388349515,\n",
              " 13672.320388349515,\n",
              " 13672.320388349515,\n",
              " 13672.320388349515,\n",
              " 13672.320388349515,\n",
              " 13672.320388349515,\n",
              " 13672.320388349515,\n",
              " 13672.320388349515,\n",
              " 13672.320388349515,\n",
              " 13672.320388349515,\n",
              " 13672.320388349515,\n",
              " 13672.320388349515,\n",
              " 13672.320388349515,\n",
              " 13672.320388349515,\n",
              " 13672.320388349515,\n",
              " 13672.320388349515,\n",
              " 13672.320388349515,\n",
              " 13672.320388349515,\n",
              " 13672.320388349515,\n",
              " 13672.320388349515,\n",
              " 13672.320388349515,\n",
              " 13672.320388349515,\n",
              " 13672.320388349515,\n",
              " 13672.320388349515,\n",
              " 13672.320388349515,\n",
              " 13672.320388349515,\n",
              " 13672.320388349515,\n",
              " 13672.320388349515,\n",
              " 13672.320388349515,\n",
              " 13672.320388349515,\n",
              " 13672.320388349515,\n",
              " 13672.320388349515,\n",
              " 13672.320388349515,\n",
              " 13672.320388349515,\n",
              " 13672.320388349515,\n",
              " 13672.320388349515,\n",
              " 13672.320388349515,\n",
              " 13672.320388349515,\n",
              " 13672.320388349515,\n",
              " 13672.320388349515,\n",
              " 13672.320388349515,\n",
              " 13672.320388349515,\n",
              " 13672.320388349515,\n",
              " 13672.320388349515,\n",
              " 13672.320388349515,\n",
              " 13672.320388349515,\n",
              " 13672.320388349515,\n",
              " 13672.320388349515,\n",
              " 13672.320388349515,\n",
              " 13672.320388349515,\n",
              " 13672.320388349515,\n",
              " 13672.320388349515,\n",
              " 13672.320388349515,\n",
              " 13672.320388349515,\n",
              " 13672.320388349515,\n",
              " 13672.320388349515,\n",
              " 13672.320388349515,\n",
              " 13672.320388349515,\n",
              " 13672.320388349515,\n",
              " 13672.320388349515,\n",
              " 13672.320388349515,\n",
              " 13672.320388349515,\n",
              " 13672.320388349515,\n",
              " 13672.320388349515,\n",
              " 13672.320388349515,\n",
              " 13672.320388349515,\n",
              " 13672.320388349515,\n",
              " 13672.320388349515,\n",
              " 13672.320388349515,\n",
              " 13672.320388349515,\n",
              " 13672.320388349515,\n",
              " 13672.320388349515,\n",
              " 13672.320388349515,\n",
              " 13672.320388349515,\n",
              " 13672.320388349515,\n",
              " 13672.320388349515,\n",
              " 13672.320388349515,\n",
              " 13672.320388349515,\n",
              " 13672.320388349515,\n",
              " 13672.320388349515,\n",
              " 13672.320388349515,\n",
              " 13672.320388349515,\n",
              " 13672.320388349515,\n",
              " 13672.320388349515,\n",
              " 13672.320388349515,\n",
              " 13672.320388349515,\n",
              " 13672.320388349515,\n",
              " 13672.320388349515,\n",
              " 13672.320388349515,\n",
              " 13672.320388349515,\n",
              " 13672.320388349515,\n",
              " 13672.320388349515,\n",
              " 13672.320388349515,\n",
              " 13672.320388349515,\n",
              " 13672.320388349515,\n",
              " 13672.320388349515,\n",
              " 13672.320388349515,\n",
              " 13672.320388349515,\n",
              " 13672.320388349515,\n",
              " 13672.320388349515,\n",
              " 13672.320388349515,\n",
              " 13672.320388349515,\n",
              " 13672.320388349515,\n",
              " 13672.320388349515,\n",
              " 13672.320388349515,\n",
              " 13672.320388349515,\n",
              " 13672.320388349515,\n",
              " 13672.320388349515,\n",
              " 13672.320388349515,\n",
              " 13672.320388349515,\n",
              " 13672.320388349515,\n",
              " 13672.320388349515,\n",
              " 13672.320388349515,\n",
              " 13672.320388349515,\n",
              " 13672.320388349515,\n",
              " 13672.320388349515,\n",
              " 13672.320388349515,\n",
              " 13672.320388349515,\n",
              " 13672.320388349515,\n",
              " 13672.320388349515,\n",
              " 13672.320388349515,\n",
              " 13672.320388349515,\n",
              " 13672.320388349515,\n",
              " 13672.320388349515,\n",
              " 13672.320388349515,\n",
              " 13672.320388349515,\n",
              " 13672.320388349515,\n",
              " 13672.320388349515,\n",
              " 13672.320388349515,\n",
              " 13672.320388349515,\n",
              " 13672.320388349515,\n",
              " 13672.320388349515,\n",
              " 13672.320388349515,\n",
              " 13672.320388349515,\n",
              " 13672.320388349515,\n",
              " 13672.320388349515,\n",
              " 13672.320388349515,\n",
              " 13672.320388349515,\n",
              " 13672.320388349515,\n",
              " 13672.320388349515,\n",
              " 13672.320388349515,\n",
              " 13672.320388349515,\n",
              " 13672.320388349515,\n",
              " 13672.320388349515,\n",
              " 13672.320388349515,\n",
              " 13672.320388349515,\n",
              " 13672.320388349515,\n",
              " 13672.320388349515,\n",
              " 13672.320388349515,\n",
              " 13672.320388349515,\n",
              " 13672.320388349515,\n",
              " 13672.320388349515,\n",
              " 13672.320388349515,\n",
              " 13672.320388349515,\n",
              " 13672.320388349515,\n",
              " 13672.320388349515,\n",
              " 13672.320388349515,\n",
              " 13672.320388349515,\n",
              " 13672.320388349515,\n",
              " 13672.320388349515,\n",
              " 13672.320388349515,\n",
              " 13672.320388349515,\n",
              " 13672.320388349515,\n",
              " 13672.320388349515,\n",
              " 13672.320388349515,\n",
              " 13672.320388349515,\n",
              " 13672.320388349515,\n",
              " 13672.320388349515,\n",
              " 13672.320388349515,\n",
              " 13672.320388349515,\n",
              " 13672.320388349515,\n",
              " 13672.320388349515,\n",
              " 13672.320388349515,\n",
              " 13672.320388349515,\n",
              " 13672.320388349515,\n",
              " 13672.320388349515,\n",
              " 13672.320388349515,\n",
              " 13672.320388349515,\n",
              " 13672.320388349515,\n",
              " 13672.320388349515,\n",
              " 13672.320388349515,\n",
              " 13672.320388349515,\n",
              " 13672.320388349515,\n",
              " 13672.320388349515,\n",
              " 13672.320388349515,\n",
              " 13672.320388349515,\n",
              " 13672.320388349515,\n",
              " 13672.320388349515,\n",
              " 13672.320388349515,\n",
              " 13672.320388349515,\n",
              " 15932.75,\n",
              " 15932.75,\n",
              " 15932.75,\n",
              " 15932.75,\n",
              " 15932.75,\n",
              " 15932.75,\n",
              " 15932.75,\n",
              " 15932.75,\n",
              " 15932.75,\n",
              " 15932.75,\n",
              " 15932.75,\n",
              " 15932.75,\n",
              " 15932.75,\n",
              " 15932.75,\n",
              " 15932.75,\n",
              " 15932.75,\n",
              " 1512.7222222222222,\n",
              " 1512.7222222222222,\n",
              " 1512.7222222222222,\n",
              " 1512.7222222222222,\n",
              " 1512.7222222222222,\n",
              " 1512.7222222222222,\n",
              " 1512.7222222222222,\n",
              " 1512.7222222222222,\n",
              " 1512.7222222222222,\n",
              " 1512.7222222222222,\n",
              " 1512.7222222222222,\n",
              " 1512.7222222222222,\n",
              " 1512.7222222222222,\n",
              " 1512.7222222222222,\n",
              " 1512.7222222222222,\n",
              " 1512.7222222222222,\n",
              " 1512.7222222222222,\n",
              " 1512.7222222222222,\n",
              " 1512.7222222222222,\n",
              " 1512.7222222222222,\n",
              " 1512.7222222222222,\n",
              " 1512.7222222222222,\n",
              " 1512.7222222222222,\n",
              " 1512.7222222222222,\n",
              " 1512.7222222222222,\n",
              " 1512.7222222222222,\n",
              " 1512.7222222222222,\n",
              " 1512.7222222222222,\n",
              " 1512.7222222222222,\n",
              " 1512.7222222222222,\n",
              " 1512.7222222222222,\n",
              " 1512.7222222222222,\n",
              " 1512.7222222222222,\n",
              " 1512.7222222222222,\n",
              " 1512.7222222222222,\n",
              " 1512.7222222222222,\n",
              " 1512.7222222222222,\n",
              " 1512.7222222222222,\n",
              " 1512.7222222222222,\n",
              " 1512.7222222222222,\n",
              " 1512.7222222222222,\n",
              " 1512.7222222222222,\n",
              " 1512.7222222222222,\n",
              " 1512.7222222222222,\n",
              " 1512.7222222222222,\n",
              " 1512.7222222222222,\n",
              " 1512.7222222222222,\n",
              " 1512.7222222222222,\n",
              " 1512.7222222222222,\n",
              " 1512.7222222222222,\n",
              " 1512.7222222222222,\n",
              " 1512.7222222222222,\n",
              " 1512.7222222222222,\n",
              " 1512.7222222222222,\n",
              " 1512.7222222222222,\n",
              " 1512.7222222222222,\n",
              " 1512.7222222222222,\n",
              " 1512.7222222222222,\n",
              " 1512.7222222222222,\n",
              " 1512.7222222222222,\n",
              " 1512.7222222222222,\n",
              " 1512.7222222222222,\n",
              " 1512.7222222222222,\n",
              " 1512.7222222222222,\n",
              " 1512.7222222222222,\n",
              " 1512.7222222222222,\n",
              " 1512.7222222222222,\n",
              " 1512.7222222222222,\n",
              " 1512.7222222222222,\n",
              " 1512.7222222222222,\n",
              " 1512.7222222222222,\n",
              " 1512.7222222222222,\n",
              " 1512.7222222222222,\n",
              " 1512.7222222222222,\n",
              " 1512.7222222222222,\n",
              " 1512.7222222222222,\n",
              " 1512.7222222222222,\n",
              " 1512.7222222222222,\n",
              " 1512.7222222222222,\n",
              " 1512.7222222222222,\n",
              " 1512.7222222222222,\n",
              " 1512.7222222222222,\n",
              " 1512.7222222222222,\n",
              " 1512.7222222222222,\n",
              " 1512.7222222222222,\n",
              " 1512.7222222222222,\n",
              " 1512.7222222222222,\n",
              " 1512.7222222222222,\n",
              " 1512.7222222222222,\n",
              " 1512.7222222222222,\n",
              " 1512.7222222222222,\n",
              " 1512.7222222222222,\n",
              " 1512.7222222222222,\n",
              " 1512.7222222222222,\n",
              " 1512.7222222222222,\n",
              " 1512.7222222222222,\n",
              " 1512.7222222222222,\n",
              " 1512.7222222222222,\n",
              " 1512.7222222222222,\n",
              " 1512.7222222222222,\n",
              " 1512.7222222222222,\n",
              " 1512.7222222222222,\n",
              " 1512.7222222222222,\n",
              " 1512.7222222222222,\n",
              " 1512.7222222222222,\n",
              " 1512.7222222222222,\n",
              " 1512.7222222222222,\n",
              " 1512.7222222222222,\n",
              " 1512.7222222222222,\n",
              " 1512.7222222222222,\n",
              " 1512.7222222222222,\n",
              " 1512.7222222222222,\n",
              " 1512.7222222222222,\n",
              " 1512.7222222222222,\n",
              " 1512.7222222222222,\n",
              " 1512.7222222222222,\n",
              " 1512.7222222222222,\n",
              " 1512.7222222222222,\n",
              " 1512.7222222222222,\n",
              " 1512.7222222222222,\n",
              " 1512.7222222222222,\n",
              " 1512.7222222222222,\n",
              " 1512.7222222222222,\n",
              " 1512.7222222222222,\n",
              " 1512.7222222222222,\n",
              " 1512.7222222222222,\n",
              " 17596.6815920398,\n",
              " 17596.6815920398,\n",
              " 17596.6815920398,\n",
              " 17596.6815920398,\n",
              " 17596.6815920398,\n",
              " 17596.6815920398,\n",
              " 17596.6815920398,\n",
              " 17596.6815920398,\n",
              " 17596.6815920398,\n",
              " 17596.6815920398,\n",
              " 17596.6815920398,\n",
              " 17596.6815920398,\n",
              " 17596.6815920398,\n",
              " 17596.6815920398,\n",
              " 17596.6815920398,\n",
              " 17596.6815920398,\n",
              " 17596.6815920398,\n",
              " 17596.6815920398,\n",
              " 17596.6815920398,\n",
              " 17596.6815920398,\n",
              " 17596.6815920398,\n",
              " 17596.6815920398,\n",
              " 17596.6815920398,\n",
              " 17596.6815920398,\n",
              " 17596.6815920398,\n",
              " 17596.6815920398,\n",
              " 17596.6815920398,\n",
              " 17596.6815920398,\n",
              " 17596.6815920398,\n",
              " 17596.6815920398,\n",
              " 17596.6815920398,\n",
              " 17596.6815920398,\n",
              " 17596.6815920398,\n",
              " 17596.6815920398,\n",
              " 17596.6815920398,\n",
              " 17596.6815920398,\n",
              " 17596.6815920398,\n",
              " 17596.6815920398,\n",
              " 17596.6815920398,\n",
              " 17596.6815920398,\n",
              " 17596.6815920398,\n",
              " 17596.6815920398,\n",
              " 17596.6815920398,\n",
              " 17596.6815920398,\n",
              " 17596.6815920398,\n",
              " 17596.6815920398,\n",
              " 17596.6815920398,\n",
              " 17596.6815920398,\n",
              " 17596.6815920398,\n",
              " 17596.6815920398,\n",
              " 17596.6815920398,\n",
              " 17596.6815920398,\n",
              " 17596.6815920398,\n",
              " 17596.6815920398,\n",
              " 17596.6815920398,\n",
              " 17596.6815920398,\n",
              " 17596.6815920398,\n",
              " 17596.6815920398,\n",
              " 17596.6815920398,\n",
              " 17596.6815920398,\n",
              " 17596.6815920398,\n",
              " 17596.6815920398,\n",
              " 17596.6815920398,\n",
              " 17596.6815920398,\n",
              " 17596.6815920398,\n",
              " 17596.6815920398,\n",
              " 17596.6815920398,\n",
              " 17596.6815920398,\n",
              " 17596.6815920398,\n",
              " 17596.6815920398,\n",
              " 17596.6815920398,\n",
              " 17596.6815920398,\n",
              " 17596.6815920398,\n",
              " 17596.6815920398,\n",
              " 17596.6815920398,\n",
              " 17596.6815920398,\n",
              " 17596.6815920398,\n",
              " 17596.6815920398,\n",
              " 17596.6815920398,\n",
              " 17596.6815920398,\n",
              " 17596.6815920398,\n",
              " 17596.6815920398,\n",
              " 17596.6815920398,\n",
              " 17596.6815920398,\n",
              " 17596.6815920398,\n",
              " 17596.6815920398,\n",
              " 17596.6815920398,\n",
              " 17596.6815920398,\n",
              " 17596.6815920398,\n",
              " 17596.6815920398,\n",
              " 17596.6815920398,\n",
              " 17596.6815920398,\n",
              " 17596.6815920398,\n",
              " 17596.6815920398,\n",
              " 17596.6815920398,\n",
              " 17596.6815920398,\n",
              " 17596.6815920398,\n",
              " 17596.6815920398,\n",
              " 17596.6815920398,\n",
              " 17596.6815920398,\n",
              " 17596.6815920398,\n",
              " 17596.6815920398,\n",
              " 17596.6815920398,\n",
              " 17596.6815920398,\n",
              " 17596.6815920398,\n",
              " 17596.6815920398,\n",
              " 17596.6815920398,\n",
              " 17596.6815920398,\n",
              " 17596.6815920398,\n",
              " 17596.6815920398,\n",
              " 17596.6815920398,\n",
              " 17596.6815920398,\n",
              " 17596.6815920398,\n",
              " 17596.6815920398,\n",
              " 17596.6815920398,\n",
              " 17596.6815920398,\n",
              " 17596.6815920398,\n",
              " 17596.6815920398,\n",
              " 17596.6815920398,\n",
              " 17596.6815920398,\n",
              " 17596.6815920398,\n",
              " 17596.6815920398,\n",
              " 17596.6815920398,\n",
              " 17596.6815920398,\n",
              " 17596.6815920398,\n",
              " 17596.6815920398,\n",
              " 17596.6815920398,\n",
              " 17596.6815920398,\n",
              " 17596.6815920398,\n",
              " 17596.6815920398,\n",
              " 17596.6815920398,\n",
              " 17596.6815920398,\n",
              " 17596.6815920398,\n",
              " 17596.6815920398,\n",
              " 17596.6815920398,\n",
              " 17596.6815920398,\n",
              " 17596.6815920398,\n",
              " 17596.6815920398,\n",
              " 17596.6815920398,\n",
              " 17596.6815920398,\n",
              " 17596.6815920398,\n",
              " 17596.6815920398,\n",
              " 17596.6815920398,\n",
              " 17596.6815920398,\n",
              " 17596.6815920398,\n",
              " 17596.6815920398,\n",
              " 17596.6815920398,\n",
              " 17596.6815920398,\n",
              " 17596.6815920398,\n",
              " 17596.6815920398,\n",
              " 17596.6815920398,\n",
              " 17596.6815920398,\n",
              " 17596.6815920398,\n",
              " 17596.6815920398,\n",
              " 17596.6815920398,\n",
              " 17596.6815920398,\n",
              " 17596.6815920398,\n",
              " 17596.6815920398,\n",
              " 17596.6815920398,\n",
              " 17596.6815920398,\n",
              " 17596.6815920398,\n",
              " 17596.6815920398,\n",
              " 17596.6815920398,\n",
              " 17596.6815920398,\n",
              " 17596.6815920398,\n",
              " 17596.6815920398,\n",
              " 17596.6815920398,\n",
              " 17596.6815920398,\n",
              " 17596.6815920398,\n",
              " 17596.6815920398,\n",
              " 17596.6815920398,\n",
              " 17596.6815920398,\n",
              " 17596.6815920398,\n",
              " 17596.6815920398,\n",
              " 17596.6815920398,\n",
              " 17596.6815920398,\n",
              " 17596.6815920398,\n",
              " 17596.6815920398,\n",
              " 17596.6815920398,\n",
              " 17596.6815920398,\n",
              " 17596.6815920398,\n",
              " 17596.6815920398,\n",
              " 17596.6815920398,\n",
              " 17596.6815920398,\n",
              " 17596.6815920398,\n",
              " 17596.6815920398,\n",
              " 17596.6815920398,\n",
              " 17596.6815920398,\n",
              " 17596.6815920398,\n",
              " 17596.6815920398,\n",
              " 17596.6815920398,\n",
              " 17596.6815920398,\n",
              " 17596.6815920398,\n",
              " 17596.6815920398,\n",
              " 17596.6815920398,\n",
              " 17596.6815920398,\n",
              " 17596.6815920398,\n",
              " 17596.6815920398,\n",
              " 17596.6815920398,\n",
              " 17596.6815920398,\n",
              " 17596.6815920398,\n",
              " 8054.977611940299,\n",
              " 8054.977611940299,\n",
              " 8054.977611940299,\n",
              " 8054.977611940299,\n",
              " 8054.977611940299,\n",
              " 8054.977611940299,\n",
              " 8054.977611940299,\n",
              " 8054.977611940299,\n",
              " 8054.977611940299,\n",
              " 8054.977611940299,\n",
              " 8054.977611940299,\n",
              " 8054.977611940299,\n",
              " 8054.977611940299,\n",
              " 8054.977611940299,\n",
              " 8054.977611940299,\n",
              " 8054.977611940299,\n",
              " 8054.977611940299,\n",
              " 8054.977611940299,\n",
              " 8054.977611940299,\n",
              " 8054.977611940299,\n",
              " 8054.977611940299,\n",
              " 8054.977611940299,\n",
              " 8054.977611940299,\n",
              " 8054.977611940299,\n",
              " 8054.977611940299,\n",
              " 8054.977611940299,\n",
              " 8054.977611940299,\n",
              " 8054.977611940299,\n",
              " 8054.977611940299,\n",
              " 8054.977611940299,\n",
              " 8054.977611940299,\n",
              " 8054.977611940299,\n",
              " 8054.977611940299,\n",
              " 8054.977611940299,\n",
              " 8054.977611940299,\n",
              " 8054.977611940299,\n",
              " 8054.977611940299,\n",
              " 8054.977611940299,\n",
              " 8054.977611940299,\n",
              " 8054.977611940299,\n",
              " 8054.977611940299,\n",
              " 8054.977611940299,\n",
              " 8054.977611940299,\n",
              " 8054.977611940299,\n",
              " 8054.977611940299,\n",
              " 8054.977611940299,\n",
              " 8054.977611940299,\n",
              " 8054.977611940299,\n",
              " 8054.977611940299,\n",
              " 8054.977611940299,\n",
              " 8054.977611940299,\n",
              " 8054.977611940299,\n",
              " 8054.977611940299,\n",
              " 8054.977611940299,\n",
              " 8054.977611940299,\n",
              " 8054.977611940299,\n",
              " 8054.977611940299,\n",
              " 8054.977611940299,\n",
              " 8054.977611940299,\n",
              " 8054.977611940299,\n",
              " 8054.977611940299,\n",
              " 8054.977611940299,\n",
              " 8054.977611940299,\n",
              " 8054.977611940299,\n",
              " 8054.977611940299,\n",
              " 8054.977611940299,\n",
              " 8054.977611940299,\n",
              " 8054.977611940299,\n",
              " 8054.977611940299,\n",
              " 8054.977611940299,\n",
              " 8054.977611940299,\n",
              " 8054.977611940299,\n",
              " 8054.977611940299,\n",
              " 8054.977611940299,\n",
              " 8054.977611940299,\n",
              " 8054.977611940299,\n",
              " 8054.977611940299,\n",
              " 8054.977611940299,\n",
              " 8054.977611940299,\n",
              " 8054.977611940299,\n",
              " 8054.977611940299,\n",
              " 8054.977611940299,\n",
              " 8054.977611940299,\n",
              " 8054.977611940299,\n",
              " 8054.977611940299,\n",
              " 8054.977611940299,\n",
              " 8054.977611940299,\n",
              " 8054.977611940299,\n",
              " 8054.977611940299,\n",
              " 8054.977611940299,\n",
              " 8054.977611940299,\n",
              " 8054.977611940299,\n",
              " 8054.977611940299,\n",
              " 8054.977611940299,\n",
              " 8054.977611940299,\n",
              " 8054.977611940299,\n",
              " 8054.977611940299,\n",
              " 8054.977611940299,\n",
              " 8054.977611940299,\n",
              " 8054.977611940299,\n",
              " 8054.977611940299,\n",
              " 8054.977611940299,\n",
              " 8054.977611940299,\n",
              " 8054.977611940299,\n",
              " 8054.977611940299,\n",
              " 8054.977611940299,\n",
              " 8054.977611940299,\n",
              " 8054.977611940299,\n",
              " 8054.977611940299,\n",
              " 8054.977611940299,\n",
              " 8054.977611940299,\n",
              " 8054.977611940299,\n",
              " 8054.977611940299,\n",
              " 8054.977611940299,\n",
              " 8054.977611940299,\n",
              " 8054.977611940299,\n",
              " 8054.977611940299,\n",
              " 8054.977611940299,\n",
              " 8054.977611940299,\n",
              " 8054.977611940299,\n",
              " 8054.977611940299,\n",
              " 8054.977611940299,\n",
              " 8054.977611940299,\n",
              " 8054.977611940299,\n",
              " 8054.977611940299,\n",
              " 8054.977611940299,\n",
              " 8054.977611940299,\n",
              " 8054.977611940299,\n",
              " 8054.977611940299,\n",
              " 8054.977611940299,\n",
              " 8054.977611940299,\n",
              " 8054.977611940299,\n",
              " 8054.977611940299,\n",
              " 8054.977611940299,\n",
              " 8054.977611940299,\n",
              " 8054.977611940299,\n",
              " 8054.977611940299,\n",
              " 8054.977611940299,\n",
              " 8054.977611940299,\n",
              " 8054.977611940299,\n",
              " 8054.977611940299,\n",
              " 8054.977611940299,\n",
              " 8054.977611940299,\n",
              " 8054.977611940299,\n",
              " 8054.977611940299,\n",
              " 8054.977611940299,\n",
              " 8054.977611940299,\n",
              " 8054.977611940299,\n",
              " 8054.977611940299,\n",
              " 8054.977611940299,\n",
              " 8054.977611940299,\n",
              " 8054.977611940299,\n",
              " 8054.977611940299,\n",
              " 8054.977611940299,\n",
              " 8054.977611940299,\n",
              " 8054.977611940299,\n",
              " 8054.977611940299,\n",
              " 8054.977611940299,\n",
              " 8054.977611940299,\n",
              " 8054.977611940299,\n",
              " 8054.977611940299,\n",
              " 8054.977611940299,\n",
              " 8054.977611940299,\n",
              " 8054.977611940299,\n",
              " 8054.977611940299,\n",
              " 8054.977611940299,\n",
              " 8054.977611940299,\n",
              " 8054.977611940299,\n",
              " 8054.977611940299,\n",
              " 8054.977611940299,\n",
              " 8054.977611940299,\n",
              " 8054.977611940299,\n",
              " 8054.977611940299,\n",
              " 8054.977611940299,\n",
              " 8054.977611940299,\n",
              " 8054.977611940299,\n",
              " 8054.977611940299,\n",
              " 8054.977611940299,\n",
              " 8054.977611940299,\n",
              " 8054.977611940299,\n",
              " 8054.977611940299,\n",
              " 8054.977611940299,\n",
              " 8054.977611940299,\n",
              " 8054.977611940299,\n",
              " 8054.977611940299,\n",
              " 8054.977611940299,\n",
              " 8054.977611940299,\n",
              " 8054.977611940299,\n",
              " 8054.977611940299,\n",
              " 8054.977611940299,\n",
              " 8054.977611940299,\n",
              " 8054.977611940299,\n",
              " 8054.977611940299,\n",
              " 8054.977611940299,\n",
              " 8054.977611940299,\n",
              " 8054.977611940299,\n",
              " 8054.977611940299,\n",
              " 8054.977611940299,\n",
              " 8054.977611940299,\n",
              " 8054.977611940299,\n",
              " 8054.977611940299,\n",
              " 8054.977611940299,\n",
              " 8054.977611940299,\n",
              " 8054.977611940299,\n",
              " 8054.977611940299,\n",
              " 8054.977611940299,\n",
              " 8054.977611940299,\n",
              " 8054.977611940299,\n",
              " 8054.977611940299,\n",
              " 8054.977611940299,\n",
              " 8054.977611940299,\n",
              " 8054.977611940299,\n",
              " 8054.977611940299,\n",
              " 8054.977611940299,\n",
              " 8054.977611940299,\n",
              " 8054.977611940299,\n",
              " 8054.977611940299,\n",
              " 8054.977611940299,\n",
              " 8054.977611940299,\n",
              " 8054.977611940299,\n",
              " 8054.977611940299,\n",
              " 8054.977611940299,\n",
              " 8054.977611940299,\n",
              " 8054.977611940299,\n",
              " 8054.977611940299,\n",
              " 8054.977611940299,\n",
              " 8054.977611940299,\n",
              " 8054.977611940299,\n",
              " 8054.977611940299,\n",
              " 8054.977611940299,\n",
              " 8054.977611940299,\n",
              " 8054.977611940299,\n",
              " 8054.977611940299,\n",
              " 8054.977611940299,\n",
              " 8054.977611940299,\n",
              " 8054.977611940299,\n",
              " 8054.977611940299,\n",
              " 8054.977611940299,\n",
              " 8054.977611940299,\n",
              " 8054.977611940299,\n",
              " 8054.977611940299,\n",
              " 8054.977611940299,\n",
              " 8054.977611940299,\n",
              " 8054.977611940299,\n",
              " 8054.977611940299,\n",
              " 8054.977611940299,\n",
              " 8054.977611940299,\n",
              " 8054.977611940299,\n",
              " 8054.977611940299,\n",
              " 8054.977611940299,\n",
              " 8054.977611940299,\n",
              " 8054.977611940299,\n",
              " 8054.977611940299,\n",
              " 8054.977611940299,\n",
              " 8054.977611940299,\n",
              " 8054.977611940299,\n",
              " 8054.977611940299,\n",
              " 8054.977611940299,\n",
              " 8054.977611940299,\n",
              " 8054.977611940299,\n",
              " 8054.977611940299,\n",
              " 8054.977611940299,\n",
              " 8054.977611940299,\n",
              " 8054.977611940299,\n",
              " 8054.977611940299,\n",
              " 8054.977611940299,\n",
              " 8054.977611940299,\n",
              " 8054.977611940299,\n",
              " 8054.977611940299,\n",
              " 8054.977611940299,\n",
              " 8054.977611940299,\n",
              " 8054.977611940299,\n",
              " 8054.977611940299,\n",
              " 8054.977611940299,\n",
              " 8054.977611940299,\n",
              " 8054.977611940299,\n",
              " 8054.977611940299,\n",
              " 8054.977611940299,\n",
              " 8054.977611940299,\n",
              " 8054.977611940299,\n",
              " 8054.977611940299,\n",
              " 8054.977611940299,\n",
              " 8054.977611940299,\n",
              " 8054.977611940299,\n",
              " 8054.977611940299,\n",
              " 8054.977611940299,\n",
              " 8054.977611940299,\n",
              " 8054.977611940299,\n",
              " 8054.977611940299,\n",
              " 8054.977611940299,\n",
              " 8054.977611940299,\n",
              " 8054.977611940299,\n",
              " 8054.977611940299,\n",
              " 8054.977611940299,\n",
              " 8054.977611940299,\n",
              " 8054.977611940299,\n",
              " 8054.977611940299,\n",
              " 8054.977611940299,\n",
              " 8054.977611940299,\n",
              " 8054.977611940299,\n",
              " 8054.977611940299,\n",
              " 8054.977611940299,\n",
              " 8054.977611940299,\n",
              " 8054.977611940299,\n",
              " 8054.977611940299,\n",
              " 8054.977611940299,\n",
              " 8054.977611940299,\n",
              " 8054.977611940299,\n",
              " 8054.977611940299,\n",
              " 8054.977611940299,\n",
              " 8054.977611940299,\n",
              " 8054.977611940299,\n",
              " 8054.977611940299,\n",
              " 8054.977611940299,\n",
              " 8054.977611940299,\n",
              " 8054.977611940299,\n",
              " 8054.977611940299,\n",
              " 8054.977611940299,\n",
              " 8054.977611940299,\n",
              " 8054.977611940299,\n",
              " 8054.977611940299,\n",
              " 8054.977611940299,\n",
              " 8054.977611940299,\n",
              " 8054.977611940299,\n",
              " 8054.977611940299,\n",
              " 8054.977611940299,\n",
              " 8054.977611940299,\n",
              " 8054.977611940299,\n",
              " 8054.977611940299,\n",
              " 8054.977611940299,\n",
              " 8054.977611940299,\n",
              " 8054.977611940299,\n",
              " 8054.977611940299,\n",
              " 8054.977611940299,\n",
              " 8054.977611940299,\n",
              " 8054.977611940299,\n",
              " 8054.977611940299,\n",
              " 8054.977611940299,\n",
              " 8054.977611940299,\n",
              " 8054.977611940299,\n",
              " 8054.977611940299,\n",
              " 8054.977611940299,\n",
              " 8054.977611940299,\n",
              " 8054.977611940299,\n",
              " 8054.977611940299,\n",
              " 8054.977611940299,\n",
              " 8054.977611940299,\n",
              " 8054.977611940299,\n",
              " 8054.977611940299,\n",
              " 8054.977611940299,\n",
              " 8054.977611940299,\n",
              " 8054.977611940299,\n",
              " 8054.977611940299,\n",
              " 8054.977611940299,\n",
              " 8054.977611940299,\n",
              " 8054.977611940299,\n",
              " 8054.977611940299,\n",
              " 8054.977611940299,\n",
              " 8054.977611940299,\n",
              " 8054.977611940299,\n",
              " 8054.977611940299,\n",
              " 8054.977611940299,\n",
              " 8054.977611940299,\n",
              " 8054.977611940299,\n",
              " 8054.977611940299,\n",
              " 8054.977611940299,\n",
              " 8054.977611940299,\n",
              " 8054.977611940299,\n",
              " 8054.977611940299,\n",
              " 8054.977611940299,\n",
              " 8054.977611940299,\n",
              " 8054.977611940299,\n",
              " 8054.977611940299,\n",
              " 8054.977611940299,\n",
              " 8054.977611940299,\n",
              " 8054.977611940299,\n",
              " 8054.977611940299,\n",
              " 8054.977611940299,\n",
              " 8054.977611940299,\n",
              " 8054.977611940299,\n",
              " 8054.977611940299,\n",
              " 8054.977611940299,\n",
              " 8054.977611940299,\n",
              " 8054.977611940299,\n",
              " 8054.977611940299,\n",
              " 8054.977611940299,\n",
              " 8054.977611940299,\n",
              " 8054.977611940299,\n",
              " 8054.977611940299,\n",
              " 8054.977611940299,\n",
              " 8054.977611940299,\n",
              " 8054.977611940299,\n",
              " 8054.977611940299,\n",
              " 8054.977611940299,\n",
              " 8054.977611940299,\n",
              " 8054.977611940299,\n",
              " 8054.977611940299,\n",
              " 8054.977611940299,\n",
              " 8054.977611940299,\n",
              " 8054.977611940299,\n",
              " 8054.977611940299,\n",
              " 8054.977611940299,\n",
              " 8054.977611940299,\n",
              " 8054.977611940299,\n",
              " 8054.977611940299,\n",
              " 8054.977611940299,\n",
              " 8054.977611940299,\n",
              " 8054.977611940299,\n",
              " 8054.977611940299,\n",
              " 8054.977611940299,\n",
              " 8054.977611940299,\n",
              " 8054.977611940299,\n",
              " 8054.977611940299,\n",
              " 8054.977611940299,\n",
              " 8054.977611940299,\n",
              " 8054.977611940299,\n",
              " 8054.977611940299,\n",
              " 8054.977611940299,\n",
              " 8054.977611940299,\n",
              " 8054.977611940299,\n",
              " 8054.977611940299,\n",
              " 8054.977611940299,\n",
              " 8054.977611940299,\n",
              " 8054.977611940299,\n",
              " 8054.977611940299,\n",
              " 8054.977611940299,\n",
              " 8054.977611940299,\n",
              " 8054.977611940299,\n",
              " 8054.977611940299,\n",
              " 8054.977611940299,\n",
              " 8054.977611940299,\n",
              " 8054.977611940299,\n",
              " 8054.977611940299,\n",
              " 8054.977611940299,\n",
              " 8054.977611940299,\n",
              " 8054.977611940299,\n",
              " 8054.977611940299,\n",
              " 8054.977611940299,\n",
              " 8054.977611940299,\n",
              " 8054.977611940299,\n",
              " 8054.977611940299,\n",
              " 8054.977611940299,\n",
              " 8054.977611940299,\n",
              " 8054.977611940299,\n",
              " 8054.977611940299,\n",
              " 8054.977611940299,\n",
              " 8054.977611940299,\n",
              " 8054.977611940299,\n",
              " 8054.977611940299,\n",
              " 8054.977611940299,\n",
              " 8054.977611940299,\n",
              " ...]"
            ]
          },
          "metadata": {
            "tags": []
          },
          "execution_count": 14
        }
      ]
    },
    {
      "cell_type": "markdown",
      "metadata": {
        "id": "Mi6RfBxOqaXG"
      },
      "source": [
        "However, what if we have data from a nursing home in a state (or territory) of the US which is not in the training data?"
      ]
    },
    {
      "cell_type": "code",
      "metadata": {
        "id": "ZLnktN3FqaXI",
        "outputId": "8710f996-199c-434c-c38a-7704408ed395",
        "colab": {
          "base_uri": "https://localhost:8080/",
          "height": 34
        }
      },
      "source": [
        "state_model.predict(pd.DataFrame([{'STATE': 'AS'}]))"
      ],
      "execution_count": null,
      "outputs": [
        {
          "output_type": "execute_result",
          "data": {
            "text/plain": [
              "[14969.857687877915]"
            ]
          },
          "metadata": {
            "tags": []
          },
          "execution_count": 15
        }
      ]
    },
    {
      "cell_type": "markdown",
      "metadata": {
        "id": "ju52e4rXqaXa"
      },
      "source": [
        "Make sure your model can handle this possibility before submitting your model's predict method to the grader."
      ]
    },
    {
      "cell_type": "code",
      "metadata": {
        "id": "ETTMC6YKqaXp",
        "outputId": "0ce06009-2051-4069-9dd4-d21cb94b9a8f"
      },
      "source": [
        "grader.score.ml__state_model(state_model.predict)"
      ],
      "execution_count": null,
      "outputs": [
        {
          "output_type": "stream",
          "text": [
            "==================\n",
            "Your score:  0.9999999999999999\n",
            "==================\n"
          ],
          "name": "stdout"
        }
      ]
    },
    {
      "cell_type": "markdown",
      "metadata": {
        "id": "F4vjZj0rqaYc"
      },
      "source": [
        "## Question 2: simple_features_model\n",
        "\n",
        "Nursing homes vary greatly in their business characteristics. Some are owned by the government or non-profits while others are run for profit. Some house a few dozen residents while others house hundreds. Some are located within hospitals and may work with more vulnerable populations. We will try to predict which facilities are fined based on their business characteristics.\n",
        "\n",
        "We'll begin with columns in our DataFrame containing numeric and boolean features. Some of the rows contain null values; estimators cannot handle null values so these must be imputed or dropped. We will create a `Pipeline` containing transformers that process these features, followed by an estimator."
      ]
    },
    {
      "cell_type": "code",
      "metadata": {
        "id": "wsD1NgEkqaZd"
      },
      "source": [
        "from sklearn.preprocessing import Imputer"
      ],
      "execution_count": null,
      "outputs": []
    },
    {
      "cell_type": "code",
      "metadata": {
        "id": "6lXKUQuIqaZn"
      },
      "source": [
        "\n",
        "simple_cols = ['BEDCERT', 'RESTOT', 'INHOSP', 'CCRC_FACIL', 'SFF', 'CHOW_LAST_12MOS', 'SPRINKLER_STATUS', 'EXP_TOTAL', 'ADJ_TOTAL']\n",
        "\n",
        "class ColumnSelectTransformer(BaseEstimator, TransformerMixin):\n",
        "    def __init__(self, columns):\n",
        "        self.columns = columns\n",
        "\n",
        "    def fit(self, X, y=None):\n",
        "        return self\n",
        "\n",
        "    def transform(self, X):\n",
        "        if not isinstance(X, pd.DataFrame):\n",
        "            X = pd.DataFrame(X)\n",
        "        return X[self.columns]\n",
        "\n",
        "simple_features = Pipeline([\n",
        "    ('cst', ColumnSelectTransformer(simple_cols)),\n",
        "    ('impute', Imputer())\n",
        "])"
      ],
      "execution_count": null,
      "outputs": []
    },
    {
      "cell_type": "markdown",
      "metadata": {
        "id": "7tfhP-pTqaZ2"
      },
      "source": [
        "(Note that the assertion below assumes the output of `noncategorical_features.fit_transform` is a `ndarray`, not a `DataFrame`.)"
      ]
    },
    {
      "cell_type": "code",
      "metadata": {
        "id": "fuMKYtBQqaZ6"
      },
      "source": [
        "assert data['RESTOT'].isnull().sum() > 0\n",
        "assert not np.isnan(simple_features.fit_transform(data)).any()"
      ],
      "execution_count": null,
      "outputs": []
    },
    {
      "cell_type": "markdown",
      "metadata": {
        "id": "mjopo3XSqaal"
      },
      "source": [
        "Now combine the `simple_features` pipeline with an estimator in a new pipeline. Fit `simple_features_model` to the data and submit `simple_features_model.predict_proba` to the grader. You may wish to use cross-validation to tune the hyperparameters of your model."
      ]
    },
    {
      "cell_type": "code",
      "metadata": {
        "id": "EWdPcv58qaax",
        "outputId": "98452818-f452-424b-8a37-afad00a93bbf"
      },
      "source": [
        "\n",
        "\n",
        "Machine learning models as classes\n",
        "Scikit-learn relies heavily on object-oriented programming principles. It implements machine learning algorithms as classes and users create objects from these \"recipes\". For example, Ridge is a class representing the ridge regression model. To create a Ridfrom sklearn.ensemble import RandomForestClassifier"
      ],
      "execution_count": null,
      "outputs": [
        {
          "output_type": "error",
          "ename": "SyntaxError",
          "evalue": "invalid syntax (<ipython-input-21-516fb7529c35>, line 3)",
          "traceback": [
            "\u001b[0;36m  File \u001b[0;32m\"<ipython-input-21-516fb7529c35>\"\u001b[0;36m, line \u001b[0;32m3\u001b[0m\n\u001b[0;31m    Machine learning models as classes\u001b[0m\n\u001b[0m                   ^\u001b[0m\n\u001b[0;31mSyntaxError\u001b[0m\u001b[0;31m:\u001b[0m invalid syntax\n"
          ]
        }
      ]
    },
    {
      "cell_type": "code",
      "metadata": {
        "id": "iB95ecsHqabJ"
      },
      "source": [
        "from sklearn.ensemble import RandomForestClassifier\n",
        "from sklearn.model_selection import GridSearchCV\n",
        "\n",
        "param_dict = {\n",
        "    'n_estimators': range(150,251,50),\n",
        "    'min_samples_leaf': range(100,151,25),\n",
        "    'class_weight': [\"balanced\", \"balanced_subsample\"]\n",
        "}\n",
        "\n",
        "grid_search = GridSearchCV(RandomForestClassifier(),\n",
        "                          param_grid = param_dict,\n",
        "                          cv = 3,\n",
        "                          n_jobs = 3)"
      ],
      "execution_count": null,
      "outputs": []
    },
    {
      "cell_type": "code",
      "metadata": {
        "id": "sVnRofcuqabR"
      },
      "source": [
        "from sklearn.ensemble import RandomForestClassifier\n",
        "\n",
        "simple_features_model = Pipeline([\n",
        "    ('simple', simple_features),\n",
        "    ('gs', grid_search)\n",
        "    #('rf', RandomForestClassifier())\n",
        "    # add your estimator here\n",
        "])"
      ],
      "execution_count": null,
      "outputs": []
    },
    {
      "cell_type": "code",
      "metadata": {
        "id": "UFSDhpAqqacR",
        "outputId": "596c5ab1-db7c-4c18-e80f-6d82d1f121e9"
      },
      "source": [
        "simple_features_model.fit(data, fine_counts > 0)"
      ],
      "execution_count": null,
      "outputs": [
        {
          "output_type": "execute_result",
          "data": {
            "text/plain": [
              "Pipeline(memory=None,\n",
              "     steps=[('simple', Pipeline(memory=None,\n",
              "     steps=[('cst', ColumnSelectTransformer(columns=['BEDCERT', 'RESTOT', 'INHOSP', 'CCRC_FACIL', 'SFF', 'CHOW_LAST_12MOS', 'SPRINKLER_STATUS', 'EXP_TOTAL', 'ADJ_TOTAL'])), ('impute', Imputer(axis=0, copy=True, missing_values='NaN', strategy='mean', verbose=0)...   pre_dispatch='2*n_jobs', refit=True, return_train_score='warn',\n",
              "       scoring=None, verbose=0))])"
            ]
          },
          "metadata": {
            "tags": []
          },
          "execution_count": 24
        }
      ]
    },
    {
      "cell_type": "code",
      "metadata": {
        "id": "UMSH6V1Jqacd",
        "outputId": "fdb71205-ecd2-40bf-a4e5-fa63b8c0ef88"
      },
      "source": [
        "def positive_probability(model):\n",
        "    def predict_proba(X):\n",
        "        return model.predict_proba(X)[:, 1]\n",
        "    return predict_proba\n",
        "\n",
        "grader.score.ml__simple_features(positive_probability(simple_features_model))"
      ],
      "execution_count": null,
      "outputs": [
        {
          "output_type": "stream",
          "text": [
            "==================\n",
            "Your score:  0.9759083237096917\n",
            "==================\n"
          ],
          "name": "stdout"
        }
      ]
    },
    {
      "cell_type": "markdown",
      "metadata": {
        "id": "ilbs5p4Cqacm"
      },
      "source": [
        "## Question 3: categorical_features"
      ]
    },
    {
      "cell_type": "markdown",
      "metadata": {
        "id": "RIsSw3LGqaco"
      },
      "source": [
        "The `'OWNERSHIP'` and `'CERTIFICATION'` columns contain categorical data. We will have to encode the categorical data into numerical features before we pass them to an estimator. Construct one or more pipelines for this purpose. Transformers such as [LabelEncoder](https://scikit-learn.org/0.19/modules/generated/sklearn.preprocessing.LabelEncoder.html#sklearn.preprocessing.LabelEncoder) and [OneHotEncoder](https://scikit-learn.org/0.19/modules/generated/sklearn.preprocessing.OneHotEncoder.html#sklearn.preprocessing.OneHotEncoder) may be useful, but you may also want to define your own transformers.\n",
        "\n",
        "If you used more than one `Pipeline`, combine them with a `FeatureUnion`. As in Question 2, we will combine this with an estimator, fit it, and submit the `predict_proba` method to the grader."
      ]
    },
    {
      "cell_type": "code",
      "metadata": {
        "id": "ISb-lO9Zqacq",
        "outputId": "01d04be4-21c6-4cea-f205-8f38ae88efaa"
      },
      "source": [
        "data.shape"
      ],
      "execution_count": null,
      "outputs": [
        {
          "output_type": "execute_result",
          "data": {
            "text/plain": [
              "(13892, 29)"
            ]
          },
          "metadata": {
            "tags": []
          },
          "execution_count": 26
        }
      ]
    },
    {
      "cell_type": "code",
      "metadata": {
        "id": "DspEO3BZqac1"
      },
      "source": [
        "from sklearn.pipeline import FeatureUnion\n",
        "from sklearn.preprocessing import LabelEncoder, OneHotEncoder\n",
        "\n",
        "class CustomLabelEncoder(BaseEstimator, TransformerMixin):\n",
        "    def fit(self, X, y=None):\n",
        "        self.labelers = {col: LabelEncoder().fit(X[col]) for col in X}\n",
        "        return self\n",
        "\n",
        "        #return super().fit_transform(y.values.ravel()).reshape(-1,1)\n",
        "\n",
        "    def transform(self, X):\n",
        "        return pd.DataFrame({col: self.labelers[col].transform(X[col]) for col in X})\n",
        "\n",
        "owner_onehot = Pipeline([\n",
        "    ('cst', ColumnSelectTransformer(['OWNERSHIP'])),\n",
        "    ('cle', CustomLabelEncoder()),\n",
        "    ('onehot', OneHotEncoder(sparse = False))\n",
        "])\n",
        "\n",
        "cert_onehot = Pipeline([\n",
        "    ('cst', ColumnSelectTransformer(['CERTIFICATION'])),\n",
        "    ('cle', CustomLabelEncoder()),\n",
        "    #('labelenc', LabelEncoder),\n",
        "    ('onehot', OneHotEncoder(sparse = False))\n",
        "])\n",
        "\n",
        "categorical_features = FeatureUnion([\n",
        "    ('owner', owner_onehot),\n",
        "    ('cert', cert_onehot)\n",
        "])"
      ],
      "execution_count": null,
      "outputs": []
    },
    {
      "cell_type": "code",
      "metadata": {
        "id": "Vlnc1KOUqadK"
      },
      "source": [
        "assert categorical_features.fit_transform(data).shape[0] == data.shape[0]\n",
        "assert categorical_features.fit_transform(data).dtype == np.float64\n",
        "assert not np.isnan(categorical_features.fit_transform(data)).any()"
      ],
      "execution_count": null,
      "outputs": []
    },
    {
      "cell_type": "markdown",
      "metadata": {
        "id": "EDBcUC6yqadb"
      },
      "source": [
        "As in the previous question, create a model using the `categorical_features`, fit it to the data, and submit its `predict_proba` method to the grader."
      ]
    },
    {
      "cell_type": "code",
      "metadata": {
        "id": "K5ZMZDzJqadk"
      },
      "source": [
        "from sklearn.ensemble import RandomForestClassifier\n",
        "from sklearn.model_selection import GridSearchCV"
      ],
      "execution_count": null,
      "outputs": []
    },
    {
      "cell_type": "code",
      "metadata": {
        "id": "gh8cJLP7qadr"
      },
      "source": [
        "param_dict = {\n",
        "    'n_estimators': range(150,251,50),\n",
        "    'min_samples_leaf': range(100,151,25),\n",
        "    'class_weight': [\"balanced\", \"balanced_subsample\"]\n",
        "}\n",
        "\n",
        "grid_search = GridSearchCV(RandomForestClassifier(),\n",
        "                          param_grid = param_dict,\n",
        "                          cv = 3,\n",
        "                          n_jobs = 3)"
      ],
      "execution_count": null,
      "outputs": []
    },
    {
      "cell_type": "code",
      "metadata": {
        "id": "IBVtwZhbqaeI"
      },
      "source": [
        "categorical_features_model = Pipeline([\n",
        "    ('categorical', categorical_features),\n",
        "    ('gs', grid_search)\n",
        "    #('rf', RandomForestClassifier())\n",
        "    # add your estimator here\n",
        "])"
      ],
      "execution_count": null,
      "outputs": []
    },
    {
      "cell_type": "code",
      "metadata": {
        "id": "CEMmtGARqaeX",
        "outputId": "2abe327d-9047-4f2c-95d3-e5c9793588b5"
      },
      "source": [
        "categorical_features_model.fit(data, fine_counts > 0)"
      ],
      "execution_count": null,
      "outputs": [
        {
          "output_type": "execute_result",
          "data": {
            "text/plain": [
              "Pipeline(memory=None,\n",
              "     steps=[('categorical', FeatureUnion(n_jobs=1,\n",
              "       transformer_list=[('owner', Pipeline(memory=None,\n",
              "     steps=[('cst', ColumnSelectTransformer(columns=['OWNERSHIP'])), ('cle', CustomLabelEncoder()), ('onehot', OneHotEncoder(categorical_features='all', dtype=<class 'numpy.float64'>,\n",
              "       handle...   pre_dispatch='2*n_jobs', refit=True, return_train_score='warn',\n",
              "       scoring=None, verbose=0))])"
            ]
          },
          "metadata": {
            "tags": []
          },
          "execution_count": 32
        }
      ]
    },
    {
      "cell_type": "code",
      "metadata": {
        "id": "Vp9bl6Elqaeo",
        "outputId": "a5a2dbac-ce9a-45e6-c621-ccb8dd4cbcc5"
      },
      "source": [
        "grader.score.ml__categorical_features(positive_probability(categorical_features_model))"
      ],
      "execution_count": null,
      "outputs": [
        {
          "output_type": "stream",
          "text": [
            "==================\n",
            "Your score:  1.0031272337383836\n",
            "==================\n"
          ],
          "name": "stdout"
        }
      ]
    },
    {
      "cell_type": "markdown",
      "metadata": {
        "id": "yrCNPSy3qae-"
      },
      "source": [
        "## Question 4: business_model"
      ]
    },
    {
      "cell_type": "markdown",
      "metadata": {
        "id": "53lgLtFqqafA"
      },
      "source": [
        "Finally, we'll combine `simple_features` and `categorical_features` in a `FeatureUnion`, followed by an estimator in a `Pipeline`. You may want to optimize the hyperparameters of your estimator using cross-validation or try engineering new features (e.g. see [PolynomialFeatures](https://scikit-learn.org/stable/modules/generated/sklearn.preprocessing.PolynomialFeatures.html)). When you've assembled and trained your model, pass the `predict_proba` method to the grader."
      ]
    },
    {
      "cell_type": "code",
      "metadata": {
        "id": "9s-dcdiIqafD"
      },
      "source": [
        "business_features = FeatureUnion([\n",
        "    ('simple', simple_features),\n",
        "    ('categorical', categorical_features)\n",
        "])"
      ],
      "execution_count": null,
      "outputs": []
    },
    {
      "cell_type": "code",
      "metadata": {
        "id": "-0DbSVgGqafL"
      },
      "source": [
        "param_dict = {\n",
        "    'n_estimators': range(150,251,50),\n",
        "    'min_samples_leaf': range(100,151,25),\n",
        "    'class_weight': [\"balanced\", \"balanced_subsample\"]\n",
        "}\n",
        "\n",
        "grid_search = GridSearchCV(RandomForestClassifier(),\n",
        "                          param_grid = param_dict,\n",
        "                          cv = 3,\n",
        "                          n_jobs = 3)"
      ],
      "execution_count": null,
      "outputs": []
    },
    {
      "cell_type": "code",
      "metadata": {
        "id": "hNZL0kq5qafX"
      },
      "source": [
        "\n",
        "business_model = Pipeline([\n",
        "    ('features', business_features),\n",
        "    ('gs', grid_search)\n",
        "    #('rf', RandomForestClassifier())\n",
        "    # add your estimator here\n",
        "])"
      ],
      "execution_count": null,
      "outputs": []
    },
    {
      "cell_type": "code",
      "metadata": {
        "id": "RfNK5ukOqafo",
        "outputId": "5170a52a-2193-4a6c-dfff-cbd8cb1d0cf2"
      },
      "source": [
        "business_model.fit(data, fine_counts > 0)"
      ],
      "execution_count": null,
      "outputs": [
        {
          "output_type": "execute_result",
          "data": {
            "text/plain": [
              "Pipeline(memory=None,\n",
              "     steps=[('features', FeatureUnion(n_jobs=1,\n",
              "       transformer_list=[('simple', Pipeline(memory=None,\n",
              "     steps=[('cst', ColumnSelectTransformer(columns=['BEDCERT', 'RESTOT', 'INHOSP', 'CCRC_FACIL', 'SFF', 'CHOW_LAST_12MOS', 'SPRINKLER_STATUS', 'EXP_TOTAL', 'ADJ_TOTAL'])), ('impute', Imputer(axis=0,...   pre_dispatch='2*n_jobs', refit=True, return_train_score='warn',\n",
              "       scoring=None, verbose=0))])"
            ]
          },
          "metadata": {
            "tags": []
          },
          "execution_count": 37
        }
      ]
    },
    {
      "cell_type": "code",
      "metadata": {
        "id": "fH0aTRalqafw",
        "outputId": "824b7bdd-220e-4846-8b68-f92a32493471"
      },
      "source": [
        "grader.score.ml__business_model(positive_probability(business_model))"
      ],
      "execution_count": null,
      "outputs": [
        {
          "output_type": "stream",
          "text": [
            "==================\n",
            "Your score:  0.9247717281028063\n",
            "==================\n"
          ],
          "name": "stdout"
        }
      ]
    },
    {
      "cell_type": "markdown",
      "metadata": {
        "id": "gLpduGLPqagL"
      },
      "source": [
        "## Question 5: survey_results"
      ]
    },
    {
      "cell_type": "markdown",
      "metadata": {
        "id": "7PK75bBTqagP"
      },
      "source": [
        "Surveys reveal safety and health deficiencies at nursing homes that may indicate risk for incidents (and penalties). CMS routinely makes surveys of nursing homes. Build a model that combines the `business_features` of each facility with its cycle 1 survey results, as well as the time between the cycle 1 and cycle 2 survey to predict the cycle 2 total score.\n",
        "\n",
        "First, let's create a transformer to calculate the difference in time between the cycle 1 and cycle 2 surveys."
      ]
    },
    {
      "cell_type": "code",
      "metadata": {
        "id": "LoBtxyROqagR"
      },
      "source": [
        "class TimedeltaTransformer(BaseEstimator, TransformerMixin):\n",
        "    def __init__(self, t1_col, t2_col):\n",
        "        self.t1_col = t1_col\n",
        "        self.t2_col = t2_col\n",
        "\n",
        "    def fit(self, X, y=None):\n",
        "        return self\n",
        "\n",
        "    def transform(self, X):\n",
        "        if not isinstance(X,pd.DataFrame):\n",
        "            X = pd.DataFrame(X)\n",
        "        return (pd.to_datetime(X[self.t2_col]) -\n",
        "                pd.to_datetime(X[self.t1_col])).values.reshape(-1,1).astype(float)"
      ],
      "execution_count": null,
      "outputs": []
    },
    {
      "cell_type": "code",
      "metadata": {
        "id": "FGJ6snA-qagg"
      },
      "source": [
        "cycle_1_date = 'CYCLE_1_SURVEY_DATE'\n",
        "cycle_2_date = 'CYCLE_2_SURVEY_DATE'\n",
        "time_feature = TimedeltaTransformer(cycle_1_date, cycle_2_date)"
      ],
      "execution_count": null,
      "outputs": []
    },
    {
      "cell_type": "code",
      "metadata": {
        "id": "zfH9pP_xqagx",
        "outputId": "934d0340-77e5-4c14-f3a8-5b74b40eabf7"
      },
      "source": [
        "(pd.to_datetime(data['CYCLE_2_SURVEY_DATE']) - pd.to_datetime(data['CYCLE_1_SURVEY_DATE'])).values.reshape(-1,1).astype(float)"
      ],
      "execution_count": null,
      "outputs": [
        {
          "output_type": "execute_result",
          "data": {
            "text/plain": [
              "array([[-2.72160e+16],\n",
              "       [-3.50784e+16],\n",
              "       [-2.54880e+16],\n",
              "       ...,\n",
              "       [-2.48832e+16],\n",
              "       [-2.85984e+16],\n",
              "       [-8.46720e+15]])"
            ]
          },
          "metadata": {
            "tags": []
          },
          "execution_count": 90
        }
      ]
    },
    {
      "cell_type": "code",
      "metadata": {
        "id": "8x_rE_GPqahQ"
      },
      "source": [],
      "execution_count": null,
      "outputs": []
    },
    {
      "cell_type": "markdown",
      "metadata": {
        "id": "gz4YyKCpqahu"
      },
      "source": [
        "In the cell below we'll collect the cycle 1 survey features."
      ]
    },
    {
      "cell_type": "code",
      "metadata": {
        "id": "Mnk0OhYzqahw"
      },
      "source": [
        "cycle_1_cols = ['CYCLE_1_DEFS', 'CYCLE_1_NFROMDEFS', 'CYCLE_1_NFROMCOMP',\n",
        "                'CYCLE_1_DEFS_SCORE', 'CYCLE_1_NUMREVIS',\n",
        "                'CYCLE_1_REVISIT_SCORE', 'CYCLE_1_TOTAL_SCORE']\n",
        "cycle_1_features = ColumnSelectTransformer(cycle_1_cols)"
      ],
      "execution_count": null,
      "outputs": []
    },
    {
      "cell_type": "code",
      "metadata": {
        "id": "i5uvHUmCqah2"
      },
      "source": [],
      "execution_count": null,
      "outputs": []
    },
    {
      "cell_type": "code",
      "metadata": {
        "id": "8rVvPZ33qaiB"
      },
      "source": [
        "from sklearn.ensemble import RandomForestRegressor\n",
        "from sklearn.preprocessing import PolynomialFeatures\n",
        "from sklearn.decomposition import TruncatedSVD\n",
        "\n",
        "param_dict = {'n_estimators' : range(174,176,1),\n",
        "             'min_samples_leaf' : range(40,55,3),\n",
        "             'min_samples_split': range(2,6)}\n",
        "\n",
        "gs = GridSearchCV(\n",
        "    RandomForestRegressor(),\n",
        "    param_grid = param_dict,\n",
        "    cv = 3,\n",
        "    n_jobs = 4\n",
        ")\n",
        "\n",
        "survey_model = Pipeline([\n",
        "    ('features', FeatureUnion([\n",
        "        ('business', business_features),\n",
        "        ('survey', cycle_1_features),\n",
        "        ('time', time_feature)\n",
        "    ])),\n",
        "    # add your estimator here\n",
        "    ('poly', PolynomialFeatures(2)),\n",
        "    ('svd', TruncatedSVD()),\n",
        "    ('gs', gs),\n",
        "    #('rfr', RandomForestRegressor(150)),\n",
        "])"
      ],
      "execution_count": null,
      "outputs": []
    },
    {
      "cell_type": "code",
      "metadata": {
        "id": "AUXNjYnpqajg",
        "outputId": "41faae56-8808-4568-ed6e-bbb8a6ddddca"
      },
      "source": [
        "survey_model.named_steps['gs'].best_params_"
      ],
      "execution_count": null,
      "outputs": [
        {
          "output_type": "execute_result",
          "data": {
            "text/plain": [
              "{'min_samples_leaf': 45, 'min_samples_split': 4, 'n_estimators': 174}"
            ]
          },
          "metadata": {
            "tags": []
          },
          "execution_count": 85
        }
      ]
    },
    {
      "cell_type": "code",
      "metadata": {
        "id": "beysQ7o5qajo",
        "outputId": "28c625e1-5ca6-44ad-e8f4-273433a0b4b4"
      },
      "source": [
        "survey_model.fit(data, cycle_2_score.astype(int))"
      ],
      "execution_count": null,
      "outputs": [
        {
          "output_type": "execute_result",
          "data": {
            "text/plain": [
              "Pipeline(memory=None,\n",
              "     steps=[('features', FeatureUnion(n_jobs=1,\n",
              "       transformer_list=[('business', FeatureUnion(n_jobs=1,\n",
              "       transformer_list=[('simple', Pipeline(memory=None,\n",
              "     steps=[('cst', ColumnSelectTransformer(columns=['BEDCERT', 'RESTOT', 'INHOSP', 'CCRC_FACIL', 'SFF', 'CHOW_LAST_12MOS', 'SPRINKLER_STA...   pre_dispatch='2*n_jobs', refit=True, return_train_score='warn',\n",
              "       scoring=None, verbose=0))])"
            ]
          },
          "metadata": {
            "tags": []
          },
          "execution_count": 93
        }
      ]
    },
    {
      "cell_type": "code",
      "metadata": {
        "id": "OiwAos1Aqajz",
        "outputId": "1ea5f41e-0ccd-40af-9c8b-0a5c9c8a1ae9"
      },
      "source": [
        "grader.score.ml__survey_model(survey_model.predict)"
      ],
      "execution_count": null,
      "outputs": [
        {
          "output_type": "stream",
          "text": [
            "==================\n",
            "Your score:  0.904895594088456\n",
            "==================\n"
          ],
          "name": "stdout"
        }
      ]
    },
    {
      "cell_type": "markdown",
      "metadata": {
        "id": "qfl2f8KvqakF"
      },
      "source": [
        "*Copyright &copy; 2019 The Data Incubator.  All rights reserved.*"
      ]
    }
  ]
}